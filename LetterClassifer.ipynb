{
 "cells": [
  {
   "cell_type": "code",
   "execution_count": 1,
   "metadata": {},
   "outputs": [],
   "source": [
    "from PIL import Image\n",
    "from PIL import ImageEnhance\n",
    "from ripser import ripser\n",
    "from persim import plot_diagrams\n",
    "from sklearn import datasets\n",
    "from skimage import measure\n",
    "from skimage import filters\n",
    "import matplotlib.pyplot as plt\n",
    "import numpy as np\n",
    "from scipy.ndimage.measurements import label"
   ]
  },
  {
   "cell_type": "code",
   "execution_count": 2,
   "metadata": {},
   "outputs": [],
   "source": [
    "#Functions to Test:\n",
    "#Taxi []\n",
    "#cleanUp []\n",
    "#ProcessLetter []\n",
    "#getFirstBetti []\n",
    "#getTopRight [], getTopLeft [], getBottomRight [], getBottomLeft [], getMiddlePixelHorizontally []\n",
    "#joinTwoPixels  []\n",
    "#joinMirror [x]\n",
    "#bisectHorizontally [x], cap [x], underline [x]\n",
    "#findLetter []"
   ]
  },
  {
   "cell_type": "code",
   "execution_count": 40,
   "metadata": {},
   "outputs": [],
   "source": [
    "#Functions to clean and preprocess the image file. \n",
    "\n",
    "#Taxi computes the taxicab distance between two pictures\n",
    "def taxi(p1,p2):\n",
    "    return(abs(p1[0]-p2[0])+abs(p1[1]-p2[1]))\n",
    "\n",
    "#cleanUp does a rudimentary DFS blob analysis to find the largest connected component of pixels, to try and \n",
    "#reduce noise\n",
    "def cleanUp(letter):\n",
    "    hashLetter = set([(p[0],p[1]) for p in letter])\n",
    "    seenLetter = {(p[0],p[1]): False for p in letter}\n",
    "    blobs = dict()\n",
    "    blobCounter = 1\n",
    "    for p in letter:\n",
    "        if not seenLetter[(p[0],p[1])]:\n",
    "            onStack = [(p[0],p[1])]\n",
    "            seenLetter[(p[0],p[1])]=True\n",
    "            blobs.update({blobCounter:[]})\n",
    "            while onStack:\n",
    "                q = onStack.pop()\n",
    "                blobs[blobCounter].append(q)\n",
    "                for i in range(-1,2):\n",
    "                    for j in range(-1,2):\n",
    "                        if (q[0]+i,q[1]+j) in seenLetter.keys() and not seenLetter[(q[0]+i,q[1]+j)]:\n",
    "                            onStack.append((q[0]+i,q[1]+j))\n",
    "                            seenLetter[(q[0]+i,q[1]+j)]=True\n",
    "            blobCounter+=1                   \n",
    "    m = 0\n",
    "    for i in blobs.keys():\n",
    "        if len(blobs[i])>m:\n",
    "            m=len(blobs[i])\n",
    "            mi = i\n",
    "    return(np.asarray(blobs[mi]))\n",
    "\n",
    "#processLetter takes an image file and turns it into an array of tuples [(x,y),...]. \n",
    "#The tuple (a,b) is in the array if and only if the corresponding pixel is ON (Black) in the \n",
    "#Black/White version of the image file. Explicitly, this returns the pixels of the text/written character.\n",
    "def processLetter(letterImage):\n",
    "    letter = Image.open(letterImage)\n",
    "    letter = letter.convert('1')\n",
    "    data = np.asarray(letter)\n",
    "    rows,columns = data.shape\n",
    "    pixelSpots = cleanUp([[j,-i] for i in range(rows) for j in range(columns) if not data[i][j]])\n",
    "    m = min([pixel[1] for pixel in pixelSpots])\n",
    "    n = min([pixel[0] for pixel in pixelSpots])\n",
    "    for pixel in pixelSpots:\n",
    "        pixel[1]-=m\n",
    "        pixel[0]-=n\n",
    "    pixelSpots = np.array(pixelSpots)\n",
    "    return(pixelSpots)"
   ]
  },
  {
   "cell_type": "code",
   "execution_count": 4,
   "metadata": {},
   "outputs": [],
   "source": [
    "#Given pixel locations, computes (first degree) persistent Betti homology using RIPSER.\n",
    "#One can specify relevance and birth parameters. The relevance parameter tells the program how large a circle you are looking for\n",
    "#i.e. if relevance is 5, the homology class must persist five units after its birth. \n",
    "#The birth describes when the homology class appears in the rips complex. A lower birth value requires the homology class\n",
    "#to be born sooner. \n",
    "\n",
    "#Note that ripser also requires a 'thresh' parameter; this is yet to be optimized.\n",
    "\n",
    "def getFirstBetti(pixels, relevance, birth = 3):\n",
    "    dgms = ripser(pixels, thresh=10)['dgms']\n",
    "    count = 0\n",
    "    for data in dgms[1]:\n",
    "        if abs(data[0]-data[1])>=relevance and data[0]<=birth:\n",
    "            count+=1\n",
    "    #plot_diagrams(dgms, show = True)\n",
    "    return(count)"
   ]
  },
  {
   "cell_type": "code",
   "execution_count": 5,
   "metadata": {},
   "outputs": [],
   "source": [
    "#Various helper functions which extract certain (possibly) relevant pixels out of a group. \n",
    "#Currently implemented: \n",
    "#Pixel from top right corner\n",
    "#Pixel from bottom right corner\n",
    "#Pixel from top left corner\n",
    "#Pixel from bottom left corner\n",
    "#Pixel closest to the average x-coordinate. \n",
    "#Warning: As with most functions in this document, these functions are built to assume that the picture is roughly \n",
    "#50x50 pixels. This will hopefully be more flexible in the near future. \n",
    "\n",
    "\n",
    "def getBottomRight(pixels):\n",
    "    m = min([p[1] for p in pixels])\n",
    "    bottomTier = [list(p) for p in pixels if abs(p[1]-m)<5]\n",
    "    ma = -1\n",
    "    for p in bottomTier:\n",
    "        if p[0]>ma:\n",
    "            ma = p[0]\n",
    "            r = p\n",
    "    return(r)\n",
    "\n",
    "def getTopRight(pixels):\n",
    "    m = max([p[1] for p in pixels])\n",
    "    topTier = [list(p) for p in pixels if abs(p[1]-m)<5]\n",
    "    ma = -1\n",
    "    for p in topTier:\n",
    "        if p[0]>ma:\n",
    "            ma = p[0]\n",
    "            r = p\n",
    "    return(r)\n",
    "\n",
    "def getTopLeft(pixels):\n",
    "    m = max([p[1] for p in pixels])\n",
    "    topTier = [list(p) for p in pixels if abs(p[1]-m)<5]\n",
    "    ma = 100\n",
    "    for p in topTier:\n",
    "        if p[0]<=ma:\n",
    "            ma = p[0]\n",
    "            r = p\n",
    "    return(p)\n",
    "\n",
    "def getBottomLeft(pixels):\n",
    "    m = min([p[1] for p in pixels])\n",
    "    bottomTier = [list(p) for p in pixels if abs(p[1]-m)<5]\n",
    "    ma = 100\n",
    "    for p in bottomTier:\n",
    "        if p[0]<=ma:\n",
    "            ma = p[0]\n",
    "            r = p\n",
    "    return(r)\n",
    "\n",
    "def getMiddlePixelHorizontally(pixels):\n",
    "    l = [p[0] for p in pixels]\n",
    "    avg = sum(l)/len(l)\n",
    "    loss = 100\n",
    "    for p in pixels:\n",
    "        if abs(p[0]-avg) < loss:\n",
    "            r = p\n",
    "            loss =abs(p[0]-avg)\n",
    "    return(r)"
   ]
  },
  {
   "cell_type": "code",
   "execution_count": 6,
   "metadata": {},
   "outputs": [],
   "source": [
    "#Connects two pixels via a parametrized straight line. \n",
    "#Note: If the image of interest is larger than 50x50 pixels, one may want to make the \"thick_param\"\n",
    "#value larger; this parameter essentially decides how thick to draw the line. \n",
    "def joinTwoPixels(p1,p2,pixels,thick_param=40):\n",
    "    l = [list(p) for p in pixels]\n",
    "    for t in range(0,thick_param+1):\n",
    "        l.append([(t/thick_param)*p1[0]+(1-t/thick_param)*p2[0],(t/thick_param)*p1[1]+(1-t/thick_param)*p2[1]])\n",
    "    return(np.asarray(l))"
   ]
  },
  {
   "cell_type": "code",
   "execution_count": 7,
   "metadata": {},
   "outputs": [],
   "source": [
    "#joinMirror reflects a group of pixels across a boundary; either its upper, left, lower, or right-most boundary.\n",
    "#It then merges the image with its reflection in this direction, and returns the merged pixel set.\n",
    "\n",
    "def joinMirror(pixels, direction):\n",
    "    assert direction in ['T','B','L','R']\n",
    "    if direction == 'B':\n",
    "        newPixelSet = [list(p) for p in pixels]\n",
    "        for p in pixels:\n",
    "            newPixelSet.append([p[0],-p[1]])\n",
    "        return(np.asarray(newPixelSet))\n",
    "    if direction == 'T':\n",
    "        newPixelSet = [list(p) for p in pixels]\n",
    "        m = max([p[1] for p in pixels])\n",
    "        for p in pixels:\n",
    "            newPixelSet.append([p[0],m+(m-p[1])])\n",
    "        return(np.asarray(newPixelSet))\n",
    "    if direction == 'L':\n",
    "        newPixelSet = [list(p) for p in pixels]\n",
    "        for p in pixels:\n",
    "            newPixelSet.append([-p[0],p[1]])\n",
    "        return(np.asarray(newPixelSet))\n",
    "    if direction == 'R':\n",
    "        newPixelSet = [list(p) for p in pixels]\n",
    "        m = max([p[0] for p in pixels])\n",
    "        for p in pixels:\n",
    "            newPixelSet.append([2*m-p[0],p[1]])\n",
    "        return(np.asarray(newPixelSet))"
   ]
  },
  {
   "cell_type": "code",
   "execution_count": 8,
   "metadata": {},
   "outputs": [],
   "source": [
    "#These functions add various horizontal lines onto the image. Currently implemented:\n",
    "#A horizontal line at the top of the pixels (cap)\n",
    "#A horizontal line at the bottom of the pixels (underline)\n",
    "#A horizontal line drawn at the average of the y-coordinates (horizontalBisect)\n",
    "\n",
    "#Warning: As with the \"joinPixels\" function, these functions are all built for a 50x50 pixel image.\n",
    "\n",
    "def horizontalBisect(pixels):\n",
    "    l = [list(p) for p in pixels]\n",
    "    ymax = max([p[1] for p in pixels])\n",
    "    ymin = min([p[1] for p in pixels])\n",
    "    yAvg = (ymax+ymin)/2\n",
    "    xmin = min([p[0] for p in pixels])\n",
    "    xmax = max([p[0] for p in pixels])\n",
    "    for t in range(0,41):\n",
    "        l.append([(t/40)*xmin + ((t-1)/40)*xmax,yAvg])\n",
    "    return(np.asarray(l))\n",
    "\n",
    "def verticalBisect(pixels):\n",
    "    l = [list(p) for p in pixels]\n",
    "    xmax = max([p[0] for p in pixels])\n",
    "    xmin = min([p[0] for p in pixels])\n",
    "    xAvg = (xmax+xmin)/2\n",
    "    ymin = min([p[1] for p in pixels])\n",
    "    ymax = max([p[1] for p in pixels])\n",
    "    for t in range(0,41):\n",
    "        l.append([xAvg,(t/40)*ymin + ((t-1)/40)*ymax])\n",
    "    return(np.asarray(l))    \n",
    "\n",
    "def cap(pixels):\n",
    "    l = [list(p) for p in pixels]\n",
    "    ymax = max([p[1] for p in pixels])\n",
    "    xmin = min([p[0] for p in pixels])\n",
    "    xmax = max([p[0] for p in pixels])\n",
    "    for t in range(0,41):\n",
    "        l.append([(t/40)*xmin + ((t-1)/40)*xmax,ymax])\n",
    "    return(np.asarray(l))\n",
    "\n",
    "def underline(pixels):\n",
    "    l = [list(p) for p in pixels]\n",
    "    ymin = min([p[1] for p in pixels])\n",
    "    xmin = min([p[0] for p in pixels])\n",
    "    xmax = max([p[0] for p in pixels])\n",
    "    for t in range(0,41):\n",
    "        l.append([(t/40)*xmin + ((t-1)/40)*xmax,ymin])\n",
    "    return(np.asarray(l))"
   ]
  },
  {
   "cell_type": "code",
   "execution_count": 9,
   "metadata": {},
   "outputs": [],
   "source": [
    "#The fundamental logic gates. Takes as input an image file and outputs classification. For more information, see\n",
    "#included readme files. \n",
    "\n",
    "def findLetter(letter):\n",
    "    pixels = processLetter(letter)\n",
    "    firstBetti = getFirstBetti(pixels,3)\n",
    "    if firstBetti == 2:\n",
    "        return('B')\n",
    "    elif firstBetti == 1:\n",
    "        firstBettiBM = getFirstBetti(joinMirror(pixels,'B'),3)\n",
    "        if firstBettiBM == 3:\n",
    "            joinTrBr = joinTwoPixels(getTopRight(pixels),getBottomRight(pixels),pixels)\n",
    "            if getFirstBetti(joinTrBr,3)==2:\n",
    "                return('R')\n",
    "            else:\n",
    "                return('A')\n",
    "        else:\n",
    "            hBisect = horizontalBisect(pixels)\n",
    "            if getFirstBetti(hBisect,3) == firstBetti:\n",
    "                return('P')\n",
    "            else:\n",
    "                if getFirstBetti(joinMirror(pixels,'R'),3)==3:\n",
    "                    return('Q')\n",
    "                else:\n",
    "                    if getFirstBetti(joinMirror(joinMirror(pixels,'L'),'B'),3)==5:\n",
    "                        return('O')\n",
    "                    else:\n",
    "                        return('D')\n",
    "    else:\n",
    "        capBetti = getFirstBetti(cap(pixels),3)\n",
    "        underBetti = getFirstBetti(underline(pixels),3)\n",
    "        if capBetti >= 1:\n",
    "            if underBetti == 0:\n",
    "                if getFirstBetti(joinTwoPixels(getTopRight(pixels),getBottomRight(pixels),pixels),3)==1:\n",
    "                    return('Y')\n",
    "                else:\n",
    "                    if getFirstBetti(joinTwoPixels(getTopRight(pixels),getBottomLeft(pixels),pixels),3)==1:\n",
    "                        return('U')\n",
    "                    else:\n",
    "                        return('V')\n",
    "            else:                 \n",
    "                if getFirstBetti(joinTwoPixels(getTopLeft(pixels),getBottomLeft(pixels),pixels),6)==1:\n",
    "                    return('X')\n",
    "                elif getFirstBetti(joinTwoPixels(getTopRight(pixels),getBottomRight(pixels),pixels),6)==1:\n",
    "                    return('K')\n",
    "                elif getFirstBetti(horizontalBisect(pixels),3)==0:\n",
    "                    if getFirstBetti(joinTwoPixels(getBottomLeft(pixels),getMiddlePixelHorizontally(pixels),pixels),2)==0:\n",
    "                        return('W')\n",
    "                    else:\n",
    "                        return('H')\n",
    "                elif getFirstBetti(joinTwoPixels(getTopLeft(pixels),getBottomRight(pixels),pixels),3)==0:\n",
    "                    return('N')\n",
    "                elif getFirstBetti(joinTwoPixels(getTopRight(pixels),getMiddlePixelHorizontally(pixels),pixels),3)==0:\n",
    "                    return('M')\n",
    "                \n",
    "        else:\n",
    "            if getFirstBetti(horizontalBisect(pixels),3) == 1:\n",
    "                return('G')\n",
    "            elif getFirstBetti(joinTwoPixels(getTopLeft(pixels),getBottomRight(pixels),pixels),2) == 2:\n",
    "                if getFirstBetti(joinTwoPixels(getTopRight(pixels),getBottomLeft(pixels),pixels),2)==0:\n",
    "                    return('Z')\n",
    "                if getFirstBetti(verticalBisect(pixels),3) == 0:\n",
    "                    return('I')\n",
    "                else:\n",
    "                    return('E')\n",
    "            elif getFirstBetti(joinMirror(pixels,'R'),3,birth = 5) == 0:\n",
    "                if getFirstBetti(joinTwoPixels(getTopLeft(pixels),getBottomLeft(pixels),pixels),5) == 0:\n",
    "                    return('L')\n",
    "                elif getFirstBetti(joinMirror(cap(pixels),'L'),3) == 0:\n",
    "                    return('T')\n",
    "                else:\n",
    "                    return('J')\n",
    "            else:\n",
    "                if getFirstBetti(cap(joinMirror(pixels,'R')),3) == 0:\n",
    "                    return('F')\n",
    "                elif getFirstBetti(cap(horizontalBisect(joinMirror(pixels,'R'))),3) == 1:\n",
    "                    return('S')\n",
    "                elif getFirstBetti(verticalBisect(pixels),3) == 1:\n",
    "                    return('C')\n",
    "                else:\n",
    "                    return('E')\n",
    "    return('I do not know what this letter is.')\n",
    "\n"
   ]
  },
  {
   "cell_type": "code",
   "execution_count": 151,
   "metadata": {},
   "outputs": [
    {
     "name": "stdout",
     "output_type": "stream",
     "text": [
      "A A\n",
      "B B\n",
      "C C\n",
      "D D\n",
      "E E\n",
      "F F\n",
      "G G\n",
      "H H\n",
      "I I\n",
      "J J\n",
      "K K\n",
      "L L\n",
      "M M\n",
      "N N\n",
      "O O\n",
      "P P\n",
      "Q Q\n",
      "R R\n",
      "S S\n",
      "T T\n",
      "U U\n",
      "V V\n",
      "W W\n",
      "X X\n",
      "Y Y\n",
      "Z Z\n"
     ]
    }
   ],
   "source": [
    "filePrefix = './LetterFiles/TypefacedLetters/'\n",
    "Letters = 'ABCDEFGHIJKLMNOPQRSTUVWXYZ'\n",
    "for char in Letters:\n",
    "    print(char,findLetter(filePrefix+char+'.png'))\n"
   ]
  },
  {
   "cell_type": "code",
   "execution_count": 30,
   "metadata": {},
   "outputs": [
    {
     "data": {
      "text/plain": [
       "'L'"
      ]
     },
     "execution_count": 30,
     "metadata": {},
     "output_type": "execute_result"
    }
   ],
   "source": [
    "file = './LetterFiles/HandwrittienLetters/L.png'\n",
    "findLetter(file)"
   ]
  },
  {
   "cell_type": "code",
   "execution_count": 25,
   "metadata": {},
   "outputs": [
    {
     "data": {
      "text/plain": [
       "<matplotlib.collections.PathCollection at 0x7f5ca706fac8>"
      ]
     },
     "execution_count": 25,
     "metadata": {},
     "output_type": "execute_result"
    },
    {
     "data": {
      "image/png": "[encoded data removed]",
      "text/plain": [
       "<Figure size 432x288 with 1 Axes>"
      ]
     },
     "metadata": {
      "needs_background": "light"
     },
     "output_type": "display_data"
    }
   ],
   "source": [
    "plt.scatter(photo[:,0],photo[:,1])"
   ]
  },
  {
   "cell_type": "code",
   "execution_count": 26,
   "metadata": {},
   "outputs": [
    {
     "data": {
      "image/png": "[encoded data removed]",
      "text/plain": [
       "<PIL.PngImagePlugin.PngImageFile image mode=RGBA size=150x150 at 0x7F5CA702C518>"
      ]
     },
     "execution_count": 26,
     "metadata": {},
     "output_type": "execute_result"
    }
   ],
   "source": [
    "Drew = Image.open(file)\n",
    "Drew"
   ]
  },
  {
   "cell_type": "code",
   "execution_count": 27,
   "metadata": {},
   "outputs": [],
   "source": [
    "Drew = Drew.convert('1')"
   ]
  },
  {
   "cell_type": "code",
   "execution_count": 28,
   "metadata": {},
   "outputs": [
    {
     "data": {
      "image/png": "[encoded data removed]",
      "text/plain": [
       "<PIL.Image.Image image mode=1 size=150x150 at 0x7F5CA71CDD68>"
      ]
     },
     "execution_count": 28,
     "metadata": {},
     "output_type": "execute_result"
    }
   ],
   "source": [
    "Drew"
   ]
  },
  {
   "cell_type": "code",
   "execution_count": 31,
   "metadata": {},
   "outputs": [
    {
     "data": {
      "text/plain": [
       "'L'"
      ]
     },
     "execution_count": 31,
     "metadata": {},
     "output_type": "execute_result"
    }
   ],
   "source": [
    "file = './LetterFiles/HandwrittienLetters/luke.png'\n",
    "findLetter(file)"
   ]
  },
  {
   "cell_type": "code",
   "execution_count": 41,
   "metadata": {},
   "outputs": [
    {
     "data": {
      "text/plain": [
       "<matplotlib.collections.PathCollection at 0x7f5ca6f35dd8>"
      ]
     },
     "execution_count": 41,
     "metadata": {},
     "output_type": "execute_result"
    },
    {
     "data": {
      "image/png": "[encoded data removed]",
      "text/plain": [
       "<Figure size 640x480 with 1 Axes>"
      ]
     },
     "metadata": {},
     "output_type": "display_data"
    }
   ],
   "source": [
    "pixels = processLetter(file)\n",
    "plt.scatter(pixels[:,0],pixels[:,1])"
   ]
  },
  {
   "cell_type": "code",
   "execution_count": 42,
   "metadata": {},
   "outputs": [
    {
     "data": {
      "text/plain": [
       "0"
      ]
     },
     "execution_count": 42,
     "metadata": {},
     "output_type": "execute_result"
    }
   ],
   "source": [
    "getFirstBetti(pixels,3)"
   ]
  },
  {
   "cell_type": "code",
   "execution_count": 43,
   "metadata": {},
   "outputs": [
    {
     "data": {
      "image/png": "[encoded data removed]",
      "text/plain": [
       "<Figure size 640x480 with 1 Axes>"
      ]
     },
     "metadata": {},
     "output_type": "display_data"
    }
   ],
   "source": [
    "RIP = ripser(pixels, thresh=10)['dgms']\n",
    "plot_diagrams(RIP, show=True)"
   ]
  },
  {
   "cell_type": "code",
   "execution_count": null,
   "metadata": {},
   "outputs": [],
   "source": []
  }
 ],
 "metadata": {
  "kernelspec": {
   "display_name": "Python 3",
   "language": "python",
   "name": "python3"
  },
  "language_info": {
   "codemirror_mode": {
    "name": "ipython",
    "version": 3
   },
   "file_extension": ".py",
   "mimetype": "text/x-python",
   "name": "python",
   "nbconvert_exporter": "python",
   "pygments_lexer": "ipython3",
   "version": "3.6.9"
  }
 },
 "nbformat": 4,
 "nbformat_minor": 4
}
